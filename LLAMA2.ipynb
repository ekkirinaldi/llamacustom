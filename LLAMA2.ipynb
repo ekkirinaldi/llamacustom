{
  "nbformat": 4,
  "nbformat_minor": 0,
  "metadata": {
    "colab": {
      "provenance": []
    },
    "kernelspec": {
      "name": "python3",
      "display_name": "Python 3"
    },
    "language_info": {
      "name": "python"
    }
  },
  "cells": [
    {
      "cell_type": "code",
      "execution_count": null,
      "metadata": {
        "colab": {
          "base_uri": "https://localhost:8080/"
        },
        "id": "L3IYvM_likrV",
        "outputId": "405cf9bf-400c-4353-a291-02bd48f5f4a2"
      },
      "outputs": [
        {
          "output_type": "stream",
          "name": "stdout",
          "text": [
            "\u001b[2K     \u001b[90m━━━━━━━━━━━━━━━━━━━━━━━━━━━━━━━━━━━━━━━━\u001b[0m \u001b[32m7.7/7.7 MB\u001b[0m \u001b[31m45.0 MB/s\u001b[0m eta \u001b[36m0:00:00\u001b[0m\n",
            "\u001b[2K     \u001b[90m━━━━━━━━━━━━━━━━━━━━━━━━━━━━━━━━━━━━━━━━\u001b[0m \u001b[32m44.6/44.6 kB\u001b[0m \u001b[31m3.9 MB/s\u001b[0m eta \u001b[36m0:00:00\u001b[0m\n",
            "\u001b[2K     \u001b[90m━━━━━━━━━━━━━━━━━━━━━━━━━━━━━━━━━━━━━━\u001b[0m \u001b[32m258.1/258.1 kB\u001b[0m \u001b[31m24.5 MB/s\u001b[0m eta \u001b[36m0:00:00\u001b[0m\n",
            "\u001b[2K     \u001b[90m━━━━━━━━━━━━━━━━━━━━━━━━━━━━━━━━━━━━━━━━\u001b[0m \u001b[32m1.8/1.8 MB\u001b[0m \u001b[31m69.6 MB/s\u001b[0m eta \u001b[36m0:00:00\u001b[0m\n",
            "\u001b[2K     \u001b[90m━━━━━━━━━━━━━━━━━━━━━━━━━━━━━━━━━━━━━━━━\u001b[0m \u001b[32m92.6/92.6 MB\u001b[0m \u001b[31m9.9 MB/s\u001b[0m eta \u001b[36m0:00:00\u001b[0m\n",
            "\u001b[2K     \u001b[90m━━━━━━━━━━━━━━━━━━━━━━━━━━━━━━━━━━━━━━\u001b[0m \u001b[32m295.0/295.0 kB\u001b[0m \u001b[31m26.1 MB/s\u001b[0m eta \u001b[36m0:00:00\u001b[0m\n",
            "\u001b[2K     \u001b[90m━━━━━━━━━━━━━━━━━━━━━━━━━━━━━━━━━━━━━━━━\u001b[0m \u001b[32m3.8/3.8 MB\u001b[0m \u001b[31m88.3 MB/s\u001b[0m eta \u001b[36m0:00:00\u001b[0m\n",
            "\u001b[2K     \u001b[90m━━━━━━━━━━━━━━━━━━━━━━━━━━━━━━━━━━━━━━━━\u001b[0m \u001b[32m1.3/1.3 MB\u001b[0m \u001b[31m65.6 MB/s\u001b[0m eta \u001b[36m0:00:00\u001b[0m\n",
            "\u001b[2K     \u001b[90m━━━━━━━━━━━━━━━━━━━━━━━━━━━━━━━━━━━━━━━━\u001b[0m \u001b[32m40.0/40.0 kB\u001b[0m \u001b[31m4.1 MB/s\u001b[0m eta \u001b[36m0:00:00\u001b[0m\n",
            "\u001b[2K     \u001b[90m━━━━━━━━━━━━━━━━━━━━━━━━━━━━━━━━━━━━━━━━\u001b[0m \u001b[32m49.4/49.4 kB\u001b[0m \u001b[31m3.6 MB/s\u001b[0m eta \u001b[36m0:00:00\u001b[0m\n",
            "\u001b[?25h"
          ]
        }
      ],
      "source": [
        "!pip install -q transformers einops accelerate langchain bitsandbytes"
      ]
    },
    {
      "cell_type": "code",
      "source": [
        "!pip install llama_index\n",
        "!pip install langchain"
      ],
      "metadata": {
        "colab": {
          "base_uri": "https://localhost:8080/"
        },
        "id": "Qf37xoH-ktyN",
        "outputId": "0d7cd21c-b322-40c5-8e28-ce9806c4fb21"
      },
      "execution_count": null,
      "outputs": [
        {
          "output_type": "stream",
          "name": "stdout",
          "text": [
            "Collecting llama_index\n",
            "  Downloading llama_index-0.8.40-py3-none-any.whl (866 kB)\n",
            "\u001b[2K     \u001b[90m━━━━━━━━━━━━━━━━━━━━━━━━━━━━━━━━━━━━━━━\u001b[0m \u001b[32m866.9/866.9 kB\u001b[0m \u001b[31m6.6 MB/s\u001b[0m eta \u001b[36m0:00:00\u001b[0m\n",
            "\u001b[?25hCollecting tiktoken (from llama_index)\n",
            "  Downloading tiktoken-0.5.1-cp310-cp310-manylinux_2_17_x86_64.manylinux2014_x86_64.whl (2.0 MB)\n",
            "\u001b[2K     \u001b[90m━━━━━━━━━━━━━━━━━━━━━━━━━━━━━━━━━━━━━━━━\u001b[0m \u001b[32m2.0/2.0 MB\u001b[0m \u001b[31m10.5 MB/s\u001b[0m eta \u001b[36m0:00:00\u001b[0m\n",
            "\u001b[?25hRequirement already satisfied: dataclasses-json in /usr/local/lib/python3.10/dist-packages (from llama_index) (0.6.1)\n",
            "Requirement already satisfied: langchain>=0.0.303 in /usr/local/lib/python3.10/dist-packages (from llama_index) (0.0.309)\n",
            "Requirement already satisfied: sqlalchemy>=2.0.15 in /usr/local/lib/python3.10/dist-packages (from llama_index) (2.0.21)\n",
            "Requirement already satisfied: numpy in /usr/local/lib/python3.10/dist-packages (from llama_index) (1.23.5)\n",
            "Requirement already satisfied: tenacity<9.0.0,>=8.2.0 in /usr/local/lib/python3.10/dist-packages (from llama_index) (8.2.3)\n",
            "Collecting openai>=0.26.4 (from llama_index)\n",
            "  Downloading openai-0.28.1-py3-none-any.whl (76 kB)\n",
            "\u001b[2K     \u001b[90m━━━━━━━━━━━━━━━━━━━━━━━━━━━━━━━━━━━━━━━━\u001b[0m \u001b[32m77.0/77.0 kB\u001b[0m \u001b[31m7.9 MB/s\u001b[0m eta \u001b[36m0:00:00\u001b[0m\n",
            "\u001b[?25hRequirement already satisfied: pandas in /usr/local/lib/python3.10/dist-packages (from llama_index) (1.5.3)\n",
            "Collecting urllib3<2 (from llama_index)\n",
            "  Downloading urllib3-1.26.17-py2.py3-none-any.whl (143 kB)\n",
            "\u001b[2K     \u001b[90m━━━━━━━━━━━━━━━━━━━━━━━━━━━━━━━━━━━━━━\u001b[0m \u001b[32m143.4/143.4 kB\u001b[0m \u001b[31m13.7 MB/s\u001b[0m eta \u001b[36m0:00:00\u001b[0m\n",
            "\u001b[?25hRequirement already satisfied: fsspec>=2023.5.0 in /usr/local/lib/python3.10/dist-packages (from llama_index) (2023.6.0)\n",
            "Requirement already satisfied: typing-inspect>=0.8.0 in /usr/local/lib/python3.10/dist-packages (from llama_index) (0.9.0)\n",
            "Requirement already satisfied: typing-extensions>=4.5.0 in /usr/local/lib/python3.10/dist-packages (from llama_index) (4.5.0)\n",
            "Requirement already satisfied: beautifulsoup4 in /usr/local/lib/python3.10/dist-packages (from llama_index) (4.11.2)\n",
            "Requirement already satisfied: nest-asyncio in /usr/local/lib/python3.10/dist-packages (from llama_index) (1.5.8)\n",
            "Requirement already satisfied: nltk in /usr/local/lib/python3.10/dist-packages (from llama_index) (3.8.1)\n",
            "Requirement already satisfied: PyYAML>=5.3 in /usr/local/lib/python3.10/dist-packages (from langchain>=0.0.303->llama_index) (6.0.1)\n",
            "Requirement already satisfied: aiohttp<4.0.0,>=3.8.3 in /usr/local/lib/python3.10/dist-packages (from langchain>=0.0.303->llama_index) (3.8.5)\n",
            "Requirement already satisfied: anyio<4.0 in /usr/local/lib/python3.10/dist-packages (from langchain>=0.0.303->llama_index) (3.7.1)\n",
            "Requirement already satisfied: async-timeout<5.0.0,>=4.0.0 in /usr/local/lib/python3.10/dist-packages (from langchain>=0.0.303->llama_index) (4.0.3)\n",
            "Requirement already satisfied: jsonpatch<2.0,>=1.33 in /usr/local/lib/python3.10/dist-packages (from langchain>=0.0.303->llama_index) (1.33)\n",
            "Requirement already satisfied: langsmith<0.1.0,>=0.0.40 in /usr/local/lib/python3.10/dist-packages (from langchain>=0.0.303->llama_index) (0.0.43)\n",
            "Requirement already satisfied: pydantic<3,>=1 in /usr/local/lib/python3.10/dist-packages (from langchain>=0.0.303->llama_index) (1.10.13)\n",
            "Requirement already satisfied: requests<3,>=2 in /usr/local/lib/python3.10/dist-packages (from langchain>=0.0.303->llama_index) (2.31.0)\n",
            "Requirement already satisfied: marshmallow<4.0.0,>=3.18.0 in /usr/local/lib/python3.10/dist-packages (from dataclasses-json->llama_index) (3.20.1)\n",
            "Requirement already satisfied: tqdm in /usr/local/lib/python3.10/dist-packages (from openai>=0.26.4->llama_index) (4.66.1)\n",
            "Requirement already satisfied: greenlet!=0.4.17 in /usr/local/lib/python3.10/dist-packages (from sqlalchemy>=2.0.15->llama_index) (3.0.0)\n",
            "Requirement already satisfied: mypy-extensions>=0.3.0 in /usr/local/lib/python3.10/dist-packages (from typing-inspect>=0.8.0->llama_index) (1.0.0)\n",
            "Requirement already satisfied: soupsieve>1.2 in /usr/local/lib/python3.10/dist-packages (from beautifulsoup4->llama_index) (2.5)\n",
            "Requirement already satisfied: click in /usr/local/lib/python3.10/dist-packages (from nltk->llama_index) (8.1.7)\n",
            "Requirement already satisfied: joblib in /usr/local/lib/python3.10/dist-packages (from nltk->llama_index) (1.3.2)\n",
            "Requirement already satisfied: regex>=2021.8.3 in /usr/local/lib/python3.10/dist-packages (from nltk->llama_index) (2023.6.3)\n",
            "Requirement already satisfied: python-dateutil>=2.8.1 in /usr/local/lib/python3.10/dist-packages (from pandas->llama_index) (2.8.2)\n",
            "Requirement already satisfied: pytz>=2020.1 in /usr/local/lib/python3.10/dist-packages (from pandas->llama_index) (2023.3.post1)\n",
            "Requirement already satisfied: attrs>=17.3.0 in /usr/local/lib/python3.10/dist-packages (from aiohttp<4.0.0,>=3.8.3->langchain>=0.0.303->llama_index) (23.1.0)\n",
            "Requirement already satisfied: charset-normalizer<4.0,>=2.0 in /usr/local/lib/python3.10/dist-packages (from aiohttp<4.0.0,>=3.8.3->langchain>=0.0.303->llama_index) (3.3.0)\n",
            "Requirement already satisfied: multidict<7.0,>=4.5 in /usr/local/lib/python3.10/dist-packages (from aiohttp<4.0.0,>=3.8.3->langchain>=0.0.303->llama_index) (6.0.4)\n",
            "Requirement already satisfied: yarl<2.0,>=1.0 in /usr/local/lib/python3.10/dist-packages (from aiohttp<4.0.0,>=3.8.3->langchain>=0.0.303->llama_index) (1.9.2)\n",
            "Requirement already satisfied: frozenlist>=1.1.1 in /usr/local/lib/python3.10/dist-packages (from aiohttp<4.0.0,>=3.8.3->langchain>=0.0.303->llama_index) (1.4.0)\n",
            "Requirement already satisfied: aiosignal>=1.1.2 in /usr/local/lib/python3.10/dist-packages (from aiohttp<4.0.0,>=3.8.3->langchain>=0.0.303->llama_index) (1.3.1)\n",
            "Requirement already satisfied: idna>=2.8 in /usr/local/lib/python3.10/dist-packages (from anyio<4.0->langchain>=0.0.303->llama_index) (3.4)\n",
            "Requirement already satisfied: sniffio>=1.1 in /usr/local/lib/python3.10/dist-packages (from anyio<4.0->langchain>=0.0.303->llama_index) (1.3.0)\n",
            "Requirement already satisfied: exceptiongroup in /usr/local/lib/python3.10/dist-packages (from anyio<4.0->langchain>=0.0.303->llama_index) (1.1.3)\n",
            "Requirement already satisfied: jsonpointer>=1.9 in /usr/local/lib/python3.10/dist-packages (from jsonpatch<2.0,>=1.33->langchain>=0.0.303->llama_index) (2.4)\n",
            "Requirement already satisfied: packaging>=17.0 in /usr/local/lib/python3.10/dist-packages (from marshmallow<4.0.0,>=3.18.0->dataclasses-json->llama_index) (23.2)\n",
            "Requirement already satisfied: six>=1.5 in /usr/local/lib/python3.10/dist-packages (from python-dateutil>=2.8.1->pandas->llama_index) (1.16.0)\n",
            "Requirement already satisfied: certifi>=2017.4.17 in /usr/local/lib/python3.10/dist-packages (from requests<3,>=2->langchain>=0.0.303->llama_index) (2023.7.22)\n",
            "Installing collected packages: urllib3, tiktoken, openai, llama_index\n",
            "  Attempting uninstall: urllib3\n",
            "    Found existing installation: urllib3 2.0.6\n",
            "    Uninstalling urllib3-2.0.6:\n",
            "      Successfully uninstalled urllib3-2.0.6\n",
            "Successfully installed llama_index-0.8.40 openai-0.28.1 tiktoken-0.5.1 urllib3-1.26.17\n",
            "Requirement already satisfied: langchain in /usr/local/lib/python3.10/dist-packages (0.0.309)\n",
            "Requirement already satisfied: PyYAML>=5.3 in /usr/local/lib/python3.10/dist-packages (from langchain) (6.0.1)\n",
            "Requirement already satisfied: SQLAlchemy<3,>=1.4 in /usr/local/lib/python3.10/dist-packages (from langchain) (2.0.21)\n",
            "Requirement already satisfied: aiohttp<4.0.0,>=3.8.3 in /usr/local/lib/python3.10/dist-packages (from langchain) (3.8.5)\n",
            "Requirement already satisfied: anyio<4.0 in /usr/local/lib/python3.10/dist-packages (from langchain) (3.7.1)\n",
            "Requirement already satisfied: async-timeout<5.0.0,>=4.0.0 in /usr/local/lib/python3.10/dist-packages (from langchain) (4.0.3)\n",
            "Requirement already satisfied: dataclasses-json<0.7,>=0.5.7 in /usr/local/lib/python3.10/dist-packages (from langchain) (0.6.1)\n",
            "Requirement already satisfied: jsonpatch<2.0,>=1.33 in /usr/local/lib/python3.10/dist-packages (from langchain) (1.33)\n",
            "Requirement already satisfied: langsmith<0.1.0,>=0.0.40 in /usr/local/lib/python3.10/dist-packages (from langchain) (0.0.43)\n",
            "Requirement already satisfied: numpy<2,>=1 in /usr/local/lib/python3.10/dist-packages (from langchain) (1.23.5)\n",
            "Requirement already satisfied: pydantic<3,>=1 in /usr/local/lib/python3.10/dist-packages (from langchain) (1.10.13)\n",
            "Requirement already satisfied: requests<3,>=2 in /usr/local/lib/python3.10/dist-packages (from langchain) (2.31.0)\n",
            "Requirement already satisfied: tenacity<9.0.0,>=8.1.0 in /usr/local/lib/python3.10/dist-packages (from langchain) (8.2.3)\n",
            "Requirement already satisfied: attrs>=17.3.0 in /usr/local/lib/python3.10/dist-packages (from aiohttp<4.0.0,>=3.8.3->langchain) (23.1.0)\n",
            "Requirement already satisfied: charset-normalizer<4.0,>=2.0 in /usr/local/lib/python3.10/dist-packages (from aiohttp<4.0.0,>=3.8.3->langchain) (3.3.0)\n",
            "Requirement already satisfied: multidict<7.0,>=4.5 in /usr/local/lib/python3.10/dist-packages (from aiohttp<4.0.0,>=3.8.3->langchain) (6.0.4)\n",
            "Requirement already satisfied: yarl<2.0,>=1.0 in /usr/local/lib/python3.10/dist-packages (from aiohttp<4.0.0,>=3.8.3->langchain) (1.9.2)\n",
            "Requirement already satisfied: frozenlist>=1.1.1 in /usr/local/lib/python3.10/dist-packages (from aiohttp<4.0.0,>=3.8.3->langchain) (1.4.0)\n",
            "Requirement already satisfied: aiosignal>=1.1.2 in /usr/local/lib/python3.10/dist-packages (from aiohttp<4.0.0,>=3.8.3->langchain) (1.3.1)\n",
            "Requirement already satisfied: idna>=2.8 in /usr/local/lib/python3.10/dist-packages (from anyio<4.0->langchain) (3.4)\n",
            "Requirement already satisfied: sniffio>=1.1 in /usr/local/lib/python3.10/dist-packages (from anyio<4.0->langchain) (1.3.0)\n",
            "Requirement already satisfied: exceptiongroup in /usr/local/lib/python3.10/dist-packages (from anyio<4.0->langchain) (1.1.3)\n",
            "Requirement already satisfied: marshmallow<4.0.0,>=3.18.0 in /usr/local/lib/python3.10/dist-packages (from dataclasses-json<0.7,>=0.5.7->langchain) (3.20.1)\n",
            "Requirement already satisfied: typing-inspect<1,>=0.4.0 in /usr/local/lib/python3.10/dist-packages (from dataclasses-json<0.7,>=0.5.7->langchain) (0.9.0)\n",
            "Requirement already satisfied: jsonpointer>=1.9 in /usr/local/lib/python3.10/dist-packages (from jsonpatch<2.0,>=1.33->langchain) (2.4)\n",
            "Requirement already satisfied: typing-extensions>=4.2.0 in /usr/local/lib/python3.10/dist-packages (from pydantic<3,>=1->langchain) (4.5.0)\n",
            "Requirement already satisfied: urllib3<3,>=1.21.1 in /usr/local/lib/python3.10/dist-packages (from requests<3,>=2->langchain) (1.26.17)\n",
            "Requirement already satisfied: certifi>=2017.4.17 in /usr/local/lib/python3.10/dist-packages (from requests<3,>=2->langchain) (2023.7.22)\n",
            "Requirement already satisfied: greenlet!=0.4.17 in /usr/local/lib/python3.10/dist-packages (from SQLAlchemy<3,>=1.4->langchain) (3.0.0)\n",
            "Requirement already satisfied: packaging>=17.0 in /usr/local/lib/python3.10/dist-packages (from marshmallow<4.0.0,>=3.18.0->dataclasses-json<0.7,>=0.5.7->langchain) (23.2)\n",
            "Requirement already satisfied: mypy-extensions>=0.3.0 in /usr/local/lib/python3.10/dist-packages (from typing-inspect<1,>=0.4.0->dataclasses-json<0.7,>=0.5.7->langchain) (1.0.0)\n"
          ]
        }
      ]
    },
    {
      "cell_type": "code",
      "source": [
        "import os\n",
        "os.environ['OPENAI_API_KEY'] = \"YOUR_API_KEY\""
      ],
      "metadata": {
        "id": "MJeGrW7dlL9l"
      },
      "execution_count": null,
      "outputs": []
    },
    {
      "cell_type": "code",
      "source": [
        "# Load data into 'Documents' a custom type by Llama Index\n",
        "from llama_index import SimpleDirectoryReader\n",
        "documents = SimpleDirectoryReader('./data').load_data()"
      ],
      "metadata": {
        "id": "_MfTUVpnmlux"
      },
      "execution_count": null,
      "outputs": []
    },
    {
      "cell_type": "code",
      "source": [
        "print(documents)"
      ],
      "metadata": {
        "colab": {
          "base_uri": "https://localhost:8080/"
        },
        "id": "PVnjANUU1qAY",
        "outputId": "f414df8e-6e1e-49c7-f3e0-0678429e5e98"
      },
      "execution_count": null,
      "outputs": [
        {
          "output_type": "stream",
          "name": "stdout",
          "text": [
            "[Document(id_='9dac0183-538c-4e92-bd6d-cb9c76e9aa86', embedding=None, metadata={'page_label': '1', 'file_name': 'VS_EkkiRinaldi.pdf'}, excluded_embed_metadata_keys=[], excluded_llm_metadata_keys=[], relationships={}, hash='2cbbbe48fc3f41aabb617c7046c7a7f3ea4213231a9ad15042d9bacfbe578dd7', text='EKKI\\nRINALDI\\nJakarta,\\nIndonesia\\n|\\nekkirinaldi.notion.site\\n|\\n+6285200427788\\n|\\nekkirinaldi@gmail.com\\nWORK\\nEXPERIENCE\\nParas\\nNFT\\nMarketplace\\nJakarta \\nLead\\nProduct\\nManager\\nMay\\n2022\\n-\\nPresent \\nLeading\\n3\\nWeb3\\nProduct\\nPortfolio\\n(paras.id,\\narkana.gg,\\nakoma.xyz). \\n●\\nRework\\nhttps://paras.id/\\nbuyer\\nexperience\\nto\\nbe\\nfocused\\non\\nbuyer/demand.\\nBringing\\n121%\\nmore\\npurchases\\nin \\nthe\\nfirst\\nmonth\\nof\\nits\\nrelease. \\n●\\nLeading\\n0\\nto\\n1\\nproduction\\nof\\nWeb3\\ncomic\\nhttps://akoma.xyz/\\n,\\nbringing\\n60.000\\nusers\\nand\\n$10.000\\nsales\\nwithin\\n5 \\nweeks\\nafter\\nlaunch. \\n●\\nLeading\\n0\\nto\\n1\\nproduction\\nof\\nWeb3\\nLoyalty\\nprogram\\nhttps://arkana.gg/\\n,\\nbringing\\n25.000\\nusers\\nand\\n3\\nbrands \\nwithin\\n3\\nweeks\\nafter\\nrelease.\\nBank\\nIndonesia\\nJakarta \\nAI\\nConsultant\\n(Contract)\\nFeb\\n2023\\n-\\nJune\\n2023 \\n●\\nConduct\\ncomprehensive\\nand\\nin\\n‐\\ndepth\\nuser\\nresearch\\nto\\nidentify\\nthe\\npain\\npoints\\nthrough\\ndata\\nanalysis\\nwith\\n4\\ntop \\nbanks\\nand\\nfintech\\nto\\ngive\\nrecommendations\\nto\\nImplement\\nadvanced\\nAI\\nsolutions\\nfor\\nenhanced\\nfraud\\ndetection \\nand\\nmanagement.\\nNodeflux\\nJakarta \\nGroup\\nProduct\\nManager\\nOct\\n2021\\n-\\nMay\\n2022 \\nLeadership:\\nLeading\\n3\\nAI\\nProduct\\nPortfolios\\nwith\\n$4M\\nARR\\n(identifai.id,\\nretailmatix.com,\\nvisionaire.ai). \\n●\\nManaging\\n3\\nproduct\\nteams,\\ndesigning\\ncareer\\ntracks\\nand\\ncompetencies. \\n●\\nSupervise\\nMLOps\\ndevelopment,\\nreducing\\nmodel\\ndevelopment\\ntime\\nby\\n33%. \\nProduct\\nManager\\nApr\\n2020\\n-\\nOct\\n2021 \\nProduct\\nInnovation:\\nLaunching\\na\\nnew\\nAI\\nProduct\\n.\\nGaining\\n$\\n4\\nMillion\\nARR. \\n●\\nLaunching\\nnew\\nAI\\nproduct\\nfor\\nsurveillance\\nhttps://www.visionaire.ai/\\n,\\ncontributing\\nto\\nsafety\\nin\\nG20\\nevent. \\nGenerating\\n$4M\\nARR. \\n●\\nCreating\\na\\nnew\\nproduct\\n-\\nLiveness\\nDetection,\\nto\\nimprove\\ndigital\\nonboarding\\nin\\nE-KYC.\\nUsed\\nby\\ntop\\n5\\nBanks \\nand\\nFintech\\nin\\nIndonesia. \\n●\\nLaunch\\nAI\\nas\\nAPI\\nservices\\nfor\\nfintech\\nand\\nbanks\\nto\\nhelp\\nthem\\nwith\\nE-KYC.\\nImpacting\\n20.000.000\\npeople\\nto \\nsurvive\\nduring\\nthe\\nCovid-19\\nlockdown. \\n●\\nLaunching\\nnew\\nAI\\nproduct\\nhttps://www.retailmatix.com/\\nto\\nautomate\\nplanogram\\nsolutions,\\nworking\\nwith \\n16.000\\nSKUs\\nand\\n5\\nbig\\nbrands\\nlike\\nP&G,\\nDanone,\\nWardah,\\nand\\n2\\ncigarette\\nbrands. \\nSolution\\nArchitect\\nJune\\n2018\\n-\\nApr\\n2020 \\nProject\\nManagement:\\nResponsible\\nfor\\n26\\nprojects\\nworth\\n$\\n20\\nmillion\\n. \\n●\\nWorking\\nwith\\na\\nmulti-national\\ncompany\\nto\\nwork\\non\\na\\n$10\\nmillion\\nproject\\nin\\nJakarta.\\nEDUCATION\\nGadjah\\nMada\\nUniversity\\nIndonesia \\nComputer\\nScience/Master\\n2018-2020 \\n●\\nGPA\\n3.54,\\nResearch\\nin\\nNatural\\nLanguage\\nProcessing\\nand\\nDigital\\nImage\\nProcessing.\\nPROJECTS\\nVectorshift.ai\\nSan\\nFrancisco \\nProduct\\n&\\nCommunity\\n(Part-time)\\nAug\\n2023\\n-\\nPresent \\n●\\nA\\nno-code\\nLLM\\nplatform\\nto\\nbuild\\nand\\ndeploy\\nthe\\nLLM\\napp,\\nbacked\\nby\\nYCombinator.\\nGrowing\\ncommunity\\nby \\n+286%\\nand\\nvalidating\\nthe\\nmarket.\\nProfond.ai\\nDelaware \\nFounder\\nSept\\n2023\\n-\\nPresent \\n●\\nA\\nno-code\\nplatform\\nfor\\nartists\\nand\\ndesigners\\nto\\nrelease\\ntheir\\nown\\nNFT\\nand\\ncoins\\nin\\nPolkadot\\nChain.\\nBacked\\nby \\nWeb3.Foundation\\n.', start_char_idx=None, end_char_idx=None, text_template='{metadata_str}\\n\\n{content}', metadata_template='{key}: {value}', metadata_seperator='\\n'), Document(id_='102d6710-c8d7-444e-b013-af304d448027', embedding=None, metadata={}, excluded_embed_metadata_keys=[], excluded_llm_metadata_keys=[], relationships={}, hash='d043a64cfa12d00997ab999b69fa01e83df5dda19737b9fa1d25f42bef437912', text='- Welcome to the Huberman lab podcast,\\n\\nwhere we discuss science\\nand science-based tools\\n\\nfor everyday life.\\n\\n[upbeat music]\\n\\nI\\'m Andrew Huberman,\\n\\nand I\\'m a professor of\\nneurobiology and ophthalmology\\n\\nat Stanford school of medicine.\\n\\nToday, we are going to talk\\nall about attention deficit,\\n\\nhyperactivity disorder, or ADHD.\\n\\nWe are also going to talk\\nabout normal levels of focus.\\n\\nWhat are normal levels of\\nfocus and how all of us,\\n\\nwhether or not we have ADHD\\nor not can improve our ability\\n\\nto focus our ability to\\nrule out distraction.\\n\\nIt turns out those are\\ntwo separate things,\\n\\nas well as remember information better.\\n\\nWe are also going to talk about\\n\\nhow we can learn to relax while focusing,\\n\\nwhich turns out to be a critical\\ncomponent of learning new\\n\\ninformation and for coming\\nup with new creative ideas.\\n\\nSo whether or not you have\\nADHD or know someone who does,\\n\\nor if you\\'re somebody who feels\\nthat they do not have ADHD,\\n\\nbut would simply like to\\nimprove their ability to focus\\n\\nor to be more creative.\\n\\nThis episode is definitely\\nfor you as well.\\n\\nWe are going to talk\\nabout drug based tools\\n\\nthat are out there.\\n\\nWe are going to talk\\nabout behavioral tools.\\n\\nWe will talk about the role\\nof diet and supplementation,\\n\\nand we will talk about new emerging\\n\\nbrain machine interface devices,\\n\\nthings like transcranial\\nmagnetic stimulation.\\n\\nIf you don\\'t know what\\nthat is, don\\'t worry,\\n\\nI will explain it to you.\\n\\nThese are non-invasive methods\\nfor rewiring your brain\\n\\nin order to make focusing\\nmore natural for you\\n\\nand to teach you how to\\nincrease your depth of focus.\\n\\nNow, just a quick reminder\\n\\nthat any time we discuss\\na psychiatric disorder,\\n\\nit\\'s important that we remember\\n\\nthat all of us have the\\ntemptation to self-diagnose\\n\\nor to diagnose others.\\n\\nSo, as I list off some of\\nthe symptomology of ADHD,\\n\\nsome of that symptomology\\nmight resonate with you.\\n\\nYou might think, oh, maybe I have ADHD\\n\\nor you might decide that someone you know,\\n\\ndefinitely has ADHD.\\n\\nHowever, it is very important\\nthat you don\\'t self-diagnose\\n\\nor diagnose somebody else\\n\\nthe clear and real diagnosis of ADHD\\n\\nreally should be carried out\\nby a psychiatrist, a physician,\\n\\nor a very well-trained\\nclinical psychologist.\\n\\nThere are clear criteria\\nfor what constitutes\\n\\nfull-blown ADHD.\\n\\nHowever, many of us have\\nconstellations of symptoms\\n\\nthat make us somewhat\\nlike somebody with ADHD\\n\\nand if you\\'re struggling\\nwith focus nowadays,\\n\\nas a lot of people are because of stress,\\n\\nbecause of smartphone use,\\n\\nwhich turns out can induce adult ADHD.\\n\\nWe\\'ll talk about that.\\n\\nWe\\'ll then pay attention\\nto the symptomology.\\n\\nYou may actually require\\nprofessional treatment\\n\\nyou might not,\\n\\nequally important is to remember\\n\\nthat some of the terms that we cover,\\n\\nlike impulse control and\\nattention and concentration\\n\\nare somewhat subjective and\\nthey can change over time.\\n\\nSometimes we have a better\\nlevel of attention than others.\\n\\nMaybe it depends on how we slept\\n\\nor other events going on in our life\\n\\nwhere something that\\nwe\\'re entirely unaware of.\\n\\nThe important thing to remember\\n\\nis that we can all improve\\nour attentional capacity.\\n\\nWe can all rewire the circuits\\nthat make heightened levels\\n\\nof focus, more accessible to us.\\n\\nWe can do that through multiple\\ntypes of interventions,\\n\\nand we are going to cover all\\nthose interventions today.\\n\\nBefore we march into the material,\\n\\nI\\'d like to remind that\\nthis podcast is separate\\n\\nfrom my teaching and\\nresearch roles at Stanford.\\n\\nIt is however, part of\\nmy desire and effort\\n\\nto bring zero cost to consumer\\ninformation about science\\n\\nand science related tools\\nto the general public.\\n\\nAnd keeping with that theme,\\n\\nI\\'d like to thank the\\nsponsors of today\\'s podcast.\\n\\nOur first sponsor is Roka.\\n\\nRoka makes eyeglasses and sunglasses\\n\\nthat are of the utmost quality.\\n\\nI\\'ve spent a lifetime\\nworking on the visual system\\n\\nand I can tell you that\\nthere are many features\\n\\nbuilt into our visual system\\n\\nthat allows us to see things clearly,\\n\\nwhether or not we are in shade\\n\\nor bright sunlight, et cetera.\\n\\nA lot of sunglasses have the problem\\n\\nthat you have to constantly take them off\\n\\nand put them back on again,\\n\\nbecause of changes in background\\nluminance, as we call it,\\n\\nRoka, sunglasses have solved this problem.\\n\\nIt doesn\\'t matter if you\\'re\\nstanding in tree shade\\n\\nor a bright light, or what have you,\\n\\nyou can always see things\\nwith perfect clarity\\n\\nand that shows that they really understand\\n\\nthe way that the visual system works\\n\\nand their eyeglasses\\nare built accordingly.\\n\\nI wear readers at night,\\n\\nso I wear eye glasses to read at night,\\n\\nor when I drive at night and their readers\\n\\nand eyeglasses are terrific as well.\\n\\nOne thing I like so much\\nabout their eyeglasses\\n\\nand their sunglasses\\nis that despite being,\\n\\n\"Performance glasses\" mean\\nyou can wear them on running\\n\\nor swimming or biking, they\\ndon\\'t fall off your face,\\n\\neven if you get sweaty,\\nthey\\'re very lightweight.\\n\\nYou don\\'t even notice that they\\'re on\\n\\nis that the aesthetic is really good.\\n\\nA lot of performance glasses,\\n\\nthey look kind of ridiculous, frankly,\\n\\nthey make people look like cyborgs,\\n\\nbut their aesthetics are terrific,\\n\\nthey have a lot of different styles,\\n\\nyou can select from.\\n\\nThe company was founded by\\ntwo All-American swimmers\\n\\nfrom Stanford and everything\\nabout their sunglasses\\n\\nand eyeglasses were designed\\nwith optical clarity\\n\\nand performance in mind.\\n\\nIf you\\'d like to try Roca,\\nyou can go to roka.com,\\n\\nthat\\'s R-O-K-A.com and\\nenter the code Huberman\\n\\nto save 20% off your first order.\\n\\nToday\\'s episode is also\\nbrought to us by Belcampo.\\n\\nBelcampo is a regenerative\\nfarm in Northern California\\n\\nthat raises organic grass fed\\n\\nand finished certified humane meat.\\n\\nI tend to eat meat about once a day.\\n\\nSo typically I\\'ll fast\\nuntil about noon or one\\n\\nand then my lunch consists\\nof a small piece of steak\\n\\nor chicken and some salad\\n\\nand then I tend to eat my\\ncarbohydrates in the evening\\n\\nbefore I go to sleep.\\n\\nSometimes and especially\\nlately I\\'m eating my protein\\n\\nearlier in the day\\n\\nbecause I\\'m playing around\\nwith some of the findings\\n\\nrelated to protein\\nintake early in the day.\\n\\nBut regardless, I\\'m eating\\nmeat about once a day.\\n\\nFor me, it\\'s extremely important\\n\\nthat any meat that I consume\\n\\ncome from humanely raised animals\\n\\nand that the meat be of\\nthe very highest quality.\\n\\nSo with Belcampo meets the\\nanimals graze on open pastures\\n\\nand seasonal grasses,\\nwhich results in meats,\\n\\nthat\\'s much higher in\\nnutrients and healthy fats,\\n\\nincluding omega-3s,\\n\\nwhich I\\'ve talked a lot\\nabout on this podcast,\\n\\nthe importance of\\nomega-3s for heart health,\\n\\nfor brain health, for mood, et cetera.\\n\\nPersonally, I love their rib eye steaks,\\n\\ntheir New York steaks,\\ntheir chicken is terrific\\n\\nand I also liked the organic meatballs.\\n\\nAll the elk meat is organic and grass fed,\\n\\nand grass-finished, if\\nyou\\'d like to try Belcampo,\\n\\nfirst time customers can get 20% off\\n\\nby going to belcampo.com/Huberman\\n\\nand using the code Huberman at checkout.\\n\\nToday\\'s episode is also\\nbrought to us by Helix sleep.\\n\\nHelix sleep makes mattresses and pillows\\n\\nthat are absolutely second to none.\\n\\nI started sleeping on a\\nHelix mattress about eight,\\n\\nnine months ago, and I\\'ve\\nnever slept better in my life.\\n\\nIf you go to the Helix site,\\n\\nthey have a short two minute quiz,\\n\\nand that quiz asks you questions like,\\n\\ndo you sleep on your back?\\n\\nDo you sleep on your side?\\n\\nDo you sleep on your stomach?\\n\\nDo you tend to run hot or cold\\nin the middle of the night?\\n\\nMaybe you don\\'t know\\n\\nand they actually have an\\noption to select, I don\\'t know\\n\\nand Helix will match you to a mattress\\n\\nthat specific to your sleep needs.\\n\\nIt turns out to be really important.\\n\\nSome people have the tendency to run hot\\n\\nand sleep on their stomach.\\n\\nOther people lie on their back\\n\\nand they\\'re waking up cold\\nin the middle of the night.\\n\\nSo you really need a mattress\\n\\nthat\\'s matched to your sleep needs.\\n\\nI did that and I matched to\\nthe dusk mattress, D-U-S-K\\n\\nand it turns out to be perfect\\nfor me and my sleep needs\\n\\nas well their pillows are really terrific.\\n\\nSo if you\\'re interested in\\nupgrading your mattress,\\n\\ngo to helixsleep.com/huberman,\\n\\ntake their two minutes sleep quiz,\\n\\nand they\\'ll match you\\nto a customized mattress\\n\\nand you\\'ll get up to $200\\noff any of their mattresses\\n\\nand you\\'ll get two free\\npillows with your order.\\n\\nThey have a 10 year warranty.\\n\\nYou have to try it out\\nfor 100 nights risk-free\\n\\nit\\'s more than three months\\n\\nand if you don\\'t like it,\\n\\nthey\\'ll pick it up for you\\nand they\\'ll take it away\\n\\nand you get all your money back.\\n\\nSo if you\\'re interested, go\\nto helixsleep.com/huberman\\n\\nfor up to $200 off your\\nmattress and two free pillows.\\n\\nSo let\\'s talk about ADHD,\\n\\nAttention Deficit Hyperactivity Disorder.\\n\\nLet\\'s also talk about focus and attention\\n\\nand everybody\\'s ability\\nto focus and attend\\n\\nnot just people with ADHD.\\n\\nWe are also going to talk about tools\\n\\nthat would allow anyone,\\n\\nwhether or not they have ADHD or not\\n\\nto enhance their level of\\nconcentration and focus.\\n\\nNow, ADHD used to be called\\nADD Attention Deficit Disorder.\\n\\nWe have record of ADD in\\nthe medical literature\\n\\ndating back to as early as 1904.\\n\\nNow there\\'s nothing special about 1904.\\n\\nThat\\'s just the first\\ntime that it showed up\\n\\nin the standard medical literature.\\n\\nWe have to believe that ADD,\\n\\nwhich we now call ADHD existed before 1904\\n\\nand probably long before 1904, why?\\n\\nWell, because it has a\\nstrong genetic component.\\n\\n', start_char_idx=None, end_char_idx=None, text_template='{metadata_str}\\n\\n{content}', metadata_template='{key}: {value}', metadata_seperator='\\n')]\n"
          ]
        }
      ]
    },
    {
      "cell_type": "code",
      "source": [
        "# Create an index of your documents\n",
        "from llama_index import VectorStoreIndex\n",
        "index = VectorStoreIndex.from_documents(documents)"
      ],
      "metadata": {
        "id": "Ok6C3jbhmLII"
      },
      "execution_count": null,
      "outputs": []
    },
    {
      "cell_type": "code",
      "source": [
        "# Query your Index\n",
        "query_engine = index.as_query_engine()\n",
        "response = query_engine.query(\"Who is Ekki Rinaldi?\")\n",
        "print(response)"
      ],
      "metadata": {
        "colab": {
          "base_uri": "https://localhost:8080/"
        },
        "id": "2e4B2E2wqs2F",
        "outputId": "c2afc6a9-2ea4-483e-c10f-2da462eca29d"
      },
      "execution_count": null,
      "outputs": [
        {
          "output_type": "stream",
          "name": "stdout",
          "text": [
            "There is no information provided in the context about Ekki Rinaldi.\n"
          ]
        }
      ]
    },
    {
      "cell_type": "markdown",
      "source": [
        "#Load Data from PDF"
      ],
      "metadata": {
        "id": "hI-I8JSLzNWI"
      }
    },
    {
      "cell_type": "code",
      "source": [
        "from pathlib import Path\n",
        "from llama_index import download_loader\n",
        "\n",
        "PDFReader = download_loader(\"PDFReader\")\n",
        "\n",
        "loader = PDFReader()\n",
        "documentp = loader.load_data(file=Path('./data/VS_EkkiRinaldi.pdf'))"
      ],
      "metadata": {
        "id": "fM6ZCK4Rzb6V"
      },
      "execution_count": null,
      "outputs": []
    },
    {
      "cell_type": "code",
      "source": [
        "print(documentp)"
      ],
      "metadata": {
        "colab": {
          "base_uri": "https://localhost:8080/"
        },
        "id": "LORsQ-B81VV4",
        "outputId": "2daeb44d-7350-4218-c8f3-40d48efa9f44"
      },
      "execution_count": null,
      "outputs": [
        {
          "output_type": "stream",
          "name": "stdout",
          "text": [
            "[Document(id_='70f5ec61-67aa-4dc6-bde5-111747e4bda7', embedding=None, metadata={'page_label': '1', 'file_name': 'VS_EkkiRinaldi.pdf'}, excluded_embed_metadata_keys=[], excluded_llm_metadata_keys=[], relationships={}, hash='2cbbbe48fc3f41aabb617c7046c7a7f3ea4213231a9ad15042d9bacfbe578dd7', text='EKKI\\nRINALDI\\nJakarta,\\nIndonesia\\n|\\nekkirinaldi.notion.site\\n|\\n+6285200427788\\n|\\nekkirinaldi@gmail.com\\nWORK\\nEXPERIENCE\\nParas\\nNFT\\nMarketplace\\nJakarta \\nLead\\nProduct\\nManager\\nMay\\n2022\\n-\\nPresent \\nLeading\\n3\\nWeb3\\nProduct\\nPortfolio\\n(paras.id,\\narkana.gg,\\nakoma.xyz). \\n●\\nRework\\nhttps://paras.id/\\nbuyer\\nexperience\\nto\\nbe\\nfocused\\non\\nbuyer/demand.\\nBringing\\n121%\\nmore\\npurchases\\nin \\nthe\\nfirst\\nmonth\\nof\\nits\\nrelease. \\n●\\nLeading\\n0\\nto\\n1\\nproduction\\nof\\nWeb3\\ncomic\\nhttps://akoma.xyz/\\n,\\nbringing\\n60.000\\nusers\\nand\\n$10.000\\nsales\\nwithin\\n5 \\nweeks\\nafter\\nlaunch. \\n●\\nLeading\\n0\\nto\\n1\\nproduction\\nof\\nWeb3\\nLoyalty\\nprogram\\nhttps://arkana.gg/\\n,\\nbringing\\n25.000\\nusers\\nand\\n3\\nbrands \\nwithin\\n3\\nweeks\\nafter\\nrelease.\\nBank\\nIndonesia\\nJakarta \\nAI\\nConsultant\\n(Contract)\\nFeb\\n2023\\n-\\nJune\\n2023 \\n●\\nConduct\\ncomprehensive\\nand\\nin\\n‐\\ndepth\\nuser\\nresearch\\nto\\nidentify\\nthe\\npain\\npoints\\nthrough\\ndata\\nanalysis\\nwith\\n4\\ntop \\nbanks\\nand\\nfintech\\nto\\ngive\\nrecommendations\\nto\\nImplement\\nadvanced\\nAI\\nsolutions\\nfor\\nenhanced\\nfraud\\ndetection \\nand\\nmanagement.\\nNodeflux\\nJakarta \\nGroup\\nProduct\\nManager\\nOct\\n2021\\n-\\nMay\\n2022 \\nLeadership:\\nLeading\\n3\\nAI\\nProduct\\nPortfolios\\nwith\\n$4M\\nARR\\n(identifai.id,\\nretailmatix.com,\\nvisionaire.ai). \\n●\\nManaging\\n3\\nproduct\\nteams,\\ndesigning\\ncareer\\ntracks\\nand\\ncompetencies. \\n●\\nSupervise\\nMLOps\\ndevelopment,\\nreducing\\nmodel\\ndevelopment\\ntime\\nby\\n33%. \\nProduct\\nManager\\nApr\\n2020\\n-\\nOct\\n2021 \\nProduct\\nInnovation:\\nLaunching\\na\\nnew\\nAI\\nProduct\\n.\\nGaining\\n$\\n4\\nMillion\\nARR. \\n●\\nLaunching\\nnew\\nAI\\nproduct\\nfor\\nsurveillance\\nhttps://www.visionaire.ai/\\n,\\ncontributing\\nto\\nsafety\\nin\\nG20\\nevent. \\nGenerating\\n$4M\\nARR. \\n●\\nCreating\\na\\nnew\\nproduct\\n-\\nLiveness\\nDetection,\\nto\\nimprove\\ndigital\\nonboarding\\nin\\nE-KYC.\\nUsed\\nby\\ntop\\n5\\nBanks \\nand\\nFintech\\nin\\nIndonesia. \\n●\\nLaunch\\nAI\\nas\\nAPI\\nservices\\nfor\\nfintech\\nand\\nbanks\\nto\\nhelp\\nthem\\nwith\\nE-KYC.\\nImpacting\\n20.000.000\\npeople\\nto \\nsurvive\\nduring\\nthe\\nCovid-19\\nlockdown. \\n●\\nLaunching\\nnew\\nAI\\nproduct\\nhttps://www.retailmatix.com/\\nto\\nautomate\\nplanogram\\nsolutions,\\nworking\\nwith \\n16.000\\nSKUs\\nand\\n5\\nbig\\nbrands\\nlike\\nP&G,\\nDanone,\\nWardah,\\nand\\n2\\ncigarette\\nbrands. \\nSolution\\nArchitect\\nJune\\n2018\\n-\\nApr\\n2020 \\nProject\\nManagement:\\nResponsible\\nfor\\n26\\nprojects\\nworth\\n$\\n20\\nmillion\\n. \\n●\\nWorking\\nwith\\na\\nmulti-national\\ncompany\\nto\\nwork\\non\\na\\n$10\\nmillion\\nproject\\nin\\nJakarta.\\nEDUCATION\\nGadjah\\nMada\\nUniversity\\nIndonesia \\nComputer\\nScience/Master\\n2018-2020 \\n●\\nGPA\\n3.54,\\nResearch\\nin\\nNatural\\nLanguage\\nProcessing\\nand\\nDigital\\nImage\\nProcessing.\\nPROJECTS\\nVectorshift.ai\\nSan\\nFrancisco \\nProduct\\n&\\nCommunity\\n(Part-time)\\nAug\\n2023\\n-\\nPresent \\n●\\nA\\nno-code\\nLLM\\nplatform\\nto\\nbuild\\nand\\ndeploy\\nthe\\nLLM\\napp,\\nbacked\\nby\\nYCombinator.\\nGrowing\\ncommunity\\nby \\n+286%\\nand\\nvalidating\\nthe\\nmarket.\\nProfond.ai\\nDelaware \\nFounder\\nSept\\n2023\\n-\\nPresent \\n●\\nA\\nno-code\\nplatform\\nfor\\nartists\\nand\\ndesigners\\nto\\nrelease\\ntheir\\nown\\nNFT\\nand\\ncoins\\nin\\nPolkadot\\nChain.\\nBacked\\nby \\nWeb3.Foundation\\n.', start_char_idx=None, end_char_idx=None, text_template='{metadata_str}\\n\\n{content}', metadata_template='{key}: {value}', metadata_seperator='\\n')]\n"
          ]
        }
      ]
    },
    {
      "cell_type": "code",
      "source": [
        "index = VectorStoreIndex.from_documents(documentp)"
      ],
      "metadata": {
        "id": "8z9WQpuW0WuV"
      },
      "execution_count": null,
      "outputs": []
    },
    {
      "cell_type": "code",
      "source": [
        "queryengine = index.as_query_engine()\n",
        "response_pdf = queryengine.query(\"Who is Ekki Rinaldi?\")\n",
        "print(response_pdf)"
      ],
      "metadata": {
        "colab": {
          "base_uri": "https://localhost:8080/"
        },
        "id": "PMn8tt6n0sbt",
        "outputId": "27a47c56-0cc3-4482-962e-3d3b08c3a6f8"
      },
      "execution_count": null,
      "outputs": [
        {
          "output_type": "stream",
          "name": "stdout",
          "text": [
            "Ekki Rinaldi is an individual based in Jakarta, Indonesia. They have experience working as a Lead Product Manager at Paras NFT Marketplace, where they led the development of various Web3 products. They also worked as an AI Consultant at Bank Indonesia, conducting user research and implementing AI solutions for fraud detection and management. Additionally, Ekki Rinaldi served as a Group Product Manager at Nodeflux, overseeing AI product portfolios and managing product teams. They have a background in Computer Science, having pursued a Master's degree at Gadjah Mada University in Indonesia. Currently, Ekki Rinaldi is involved in two projects: Vectorshift.ai, a no-code LLM platform, and Profond.ai, a no-code platform for artists and designers to release NFTs and coins.\n"
          ]
        }
      ]
    }
  ]
}